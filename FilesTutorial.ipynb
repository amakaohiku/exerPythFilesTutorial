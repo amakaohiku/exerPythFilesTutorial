{
 "metadata": {
  "language_info": {
   "codemirror_mode": {
    "name": "ipython",
    "version": 3
   },
   "file_extension": ".py",
   "mimetype": "text/x-python",
   "name": "python",
   "nbconvert_exporter": "python",
   "pygments_lexer": "ipython3",
   "version": "3.8.3-final"
  },
  "orig_nbformat": 2,
  "kernelspec": {
   "name": "python_defaultSpec_1600762067064",
   "display_name": "Python 3.8.3 64-bit ('base': conda)"
  }
 },
 "nbformat": 4,
 "nbformat_minor": 2,
 "cells": [
  {
   "cell_type": "code",
   "execution_count": 1,
   "metadata": {
    "tags": []
   },
   "outputs": [
    {
     "output_type": "stream",
     "name": "stdout",
     "text": "test.txt\n"
    }
   ],
   "source": [
    "f = open('test.txt', 'a')\n",
    "print(f.name)\n",
    "f.close()"
   ]
  },
  {
   "cell_type": "code",
   "execution_count": 2,
   "metadata": {
    "tags": []
   },
   "outputs": [
    {
     "output_type": "stream",
     "name": "stdout",
     "text": "test.txt\n"
    }
   ],
   "source": [
    "f = open('test.txt', 'r')\n",
    "print(f.name)\n",
    "f.close()"
   ]
  },
  {
   "cell_type": "code",
   "execution_count": 3,
   "metadata": {
    "tags": []
   },
   "outputs": [
    {
     "output_type": "stream",
     "name": "stdout",
     "text": "test.txt\n"
    }
   ],
   "source": [
    "f = open('test.txt', 'w')\n",
    "print(f.name)\n",
    "f.close()"
   ]
  },
  {
   "cell_type": "code",
   "execution_count": 6,
   "metadata": {
    "tags": []
   },
   "outputs": [
    {
     "output_type": "stream",
     "name": "stdout",
     "text": "test.txt\n"
    }
   ],
   "source": [
    "f = open('test.txt', 'r+')\n",
    "print(f.name)\n",
    "f.close()"
   ]
  },
  {
   "cell_type": "code",
   "execution_count": 8,
   "metadata": {
    "tags": []
   },
   "outputs": [
    {
     "output_type": "stream",
     "name": "stdout",
     "text": "1) This is a text file!\n2) With multiple lines of data...\n3) Third line\n4) Fourth line\n5) Fifth line\n6) Sixth line\n7) Seventh line\n8) Eight line\n9) Ninth line\n10) Tenth line\n"
    }
   ],
   "source": [
    "# example of a context manager is the \"with\" statement\n",
    "with open('test.txt', 'r') as f:\n",
    "    f_contents = f.read()\n",
    "    print(f_contents)"
   ]
  },
  {
   "cell_type": "code",
   "execution_count": 9,
   "metadata": {
    "tags": []
   },
   "outputs": [
    {
     "output_type": "stream",
     "name": "stdout",
     "text": "['1) This is a text file!\\n', '2) With multiple lines of data...\\n', '3) Third line\\n', '4) Fourth line\\n', '5) Fifth line\\n', '6) Sixth line\\n', '7) Seventh line\\n', '8) Eight line\\n', '9) Ninth line\\n', '10) Tenth line']\n"
    }
   ],
   "source": [
    "with open('test.txt', 'r') as f:\n",
    "    f_contents = f.readlines()\n",
    "    print(f_contents)"
   ]
  },
  {
   "cell_type": "code",
   "execution_count": 10,
   "metadata": {
    "tags": []
   },
   "outputs": [
    {
     "output_type": "stream",
     "name": "stdout",
     "text": "1) This is a text file!\n\n"
    }
   ],
   "source": [
    "with open('test.txt', 'r') as f:\n",
    "    f_contents = f.readline()\n",
    "    print(f_contents)"
   ]
  },
  {
   "cell_type": "code",
   "execution_count": 15,
   "metadata": {
    "tags": []
   },
   "outputs": [
    {
     "output_type": "stream",
     "name": "stdout",
     "text": "r\n"
    }
   ],
   "source": [
    "print(f.mode)\n"
   ]
  },
  {
   "cell_type": "code",
   "execution_count": 17,
   "metadata": {
    "tags": []
   },
   "outputs": [
    {
     "output_type": "stream",
     "name": "stdout",
     "text": "1) This is a text file!\n"
    }
   ],
   "source": [
    "with open('test.txt', 'r') as f:\n",
    "    f_contents = f.readline()\n",
    "    print(f_contents, end='')"
   ]
  },
  {
   "cell_type": "code",
   "execution_count": 21,
   "metadata": {
    "tags": []
   },
   "outputs": [
    {
     "output_type": "stream",
     "name": "stdout",
     "text": "1) This is a text file!\n"
    }
   ],
   "source": [
    "with open('test.txt', 'r') as f:\n",
    "    f_contents = f.readline()\n",
    "    print(f_contents, end='')"
   ]
  },
  {
   "cell_type": "code",
   "execution_count": 22,
   "metadata": {
    "tags": []
   },
   "outputs": [
    {
     "output_type": "stream",
     "name": "stdout",
     "text": "1) This is a text file!\n"
    }
   ],
   "source": [
    "with open('test.txt', 'r') as f:\n",
    "    f_contents = f.readline()\n",
    "    print(f_contents, end='')"
   ]
  },
  {
   "cell_type": "code",
   "execution_count": 24,
   "metadata": {
    "tags": []
   },
   "outputs": [
    {
     "output_type": "stream",
     "name": "stdout",
     "text": "1) This is a text file!\n2) With multiple lines of data...\n3) Third line\n4) Fourth line\n5) Fifth line\n6) Sixth line\n7) Seventh line\n8) Eight line\n9) Ninth line\n10) Tenth line"
    }
   ],
   "source": [
    "with open('test.txt', 'r') as f:\n",
    "    for line in f:\n",
    "        print(line, end='')"
   ]
  },
  {
   "cell_type": "code",
   "execution_count": 26,
   "metadata": {
    "tags": []
   },
   "outputs": [
    {
     "output_type": "stream",
     "name": "stdout",
     "text": "1) This is a text file!\n2) With multiple lines of data...\n3) Third line\n4) Fourth line\n5) Fifth line"
    }
   ],
   "source": [
    "with open('test.txt', 'r') as f:\n",
    "    \n",
    "    f_contents = f.read(100)\n",
    "    print(f_contents, end='')"
   ]
  },
  {
   "cell_type": "code",
   "execution_count": 27,
   "metadata": {
    "tags": []
   },
   "outputs": [
    {
     "output_type": "stream",
     "name": "stdout",
     "text": "1) This is a text file!\n2) With multiple lines of data...\n3) Third line\n4) Fourth line\n5) Fifth line\n6) Sixth line\n7) Seventh line\n8) Eight line\n9) Ninth line\n10) Tenth line"
    }
   ],
   "source": [
    "with open('test.txt', 'r') as f:\n",
    "    \n",
    "    f_contents = f.read(100)\n",
    "    print(f_contents, end='')\n",
    "\n",
    "    f_contents = f.read(100)\n",
    "    print(f_contents, end='')"
   ]
  },
  {
   "cell_type": "code",
   "execution_count": 28,
   "metadata": {
    "tags": []
   },
   "outputs": [
    {
     "output_type": "stream",
     "name": "stdout",
     "text": "1) This is a text file!\n2) With multiple lines of data...\n3) Third line\n4) Fourth line\n5) Fifth line\n6) Sixth line\n7) Seventh line\n8) Eight line\n9) Ninth line\n10) Tenth line"
    }
   ],
   "source": [
    "with open('test.txt', 'r') as f:\n",
    "    \n",
    "    size_to_read = 100\n",
    "\n",
    "    f_contents = f.read(size_to_read)\n",
    "\n",
    "    while len(f_contents) > 0:\n",
    "        print(f_contents, end='')\n",
    "        f_contents = f.read(size_to_read)"
   ]
  },
  {
   "cell_type": "code",
   "execution_count": 31,
   "metadata": {
    "tags": []
   },
   "outputs": [
    {
     "output_type": "stream",
     "name": "stdout",
     "text": "1) This is a text file!\n2) With multiple lines of data...\n3) Third line\n4) Fourth line\n5) Fifth line1) This is a text file!\n2) With multiple lines of data...\n3) Third line\n4) Fourth line\n5) Fifth line\n6) Sixth line\n7) Seventh line\n8) Eight line\n9) Ninth line\n10) Tenth line"
    }
   ],
   "source": [
    "with open('test.txt', 'r') as f:\n",
    "\n",
    "    size_to_read = 100\n",
    "\n",
    "    f_contents = f.read(size_to_read)\n",
    "\n",
    "\n",
    "with open('test.txt', 'r') as f:\n",
    "\n",
    "    while len(f_contents) > 0:\n",
    "         print(f_contents, end='')\n",
    "         f_contents = f.read(size_to_read)"
   ]
  },
  {
   "cell_type": "code",
   "execution_count": 32,
   "metadata": {
    "tags": []
   },
   "outputs": [
    {
     "output_type": "stream",
     "name": "stdout",
     "text": "1) This is*1) This is* a text fi*le!\n2) Wit*h multiple* lines of *data...\n3)* Third lin*e\n4) Fourt*h line\n5) *Fifth line*\n6) Sixth *line\n7) Se*venth line*\n8) Eight *line\n9) Ni*nth line\n1*0) Tenth l*ine*"
    }
   ],
   "source": [
    "with open('test.txt', 'r') as f:\n",
    "\n",
    "    size_to_read = 10\n",
    "\n",
    "    f_contents = f.read(size_to_read)\n",
    "\n",
    "\n",
    "with open('test.txt', 'r') as f:\n",
    "\n",
    "    while len(f_contents) > 0:\n",
    "         print(f_contents, end='*')\n",
    "         f_contents = f.read(size_to_read)"
   ]
  },
  {
   "cell_type": "code",
   "execution_count": 33,
   "metadata": {
    "tags": []
   },
   "outputs": [
    {
     "output_type": "stream",
     "name": "stdout",
     "text": "10\n"
    }
   ],
   "source": [
    "with open('test.txt', 'r') as f:\n",
    "\n",
    "    size_to_read = 10\n",
    "\n",
    "    f_contents = f.read(size_to_read)\n",
    "\n",
    "    print(f.tell())"
   ]
  },
  {
   "cell_type": "code",
   "execution_count": 35,
   "metadata": {
    "tags": []
   },
   "outputs": [
    {
     "output_type": "stream",
     "name": "stdout",
     "text": "1) This is a text fi\n"
    }
   ],
   "source": [
    "with open('test.txt', 'r') as f:\n",
    "\n",
    "    size_to_read = 10\n",
    "\n",
    "    f_contents = f.read(size_to_read)\n",
    "    print(f_contents, end='')\n",
    "\n",
    "    f_contents = f.read(size_to_read)\n",
    "    print(f_contents)\n",
    "\n"
   ]
  },
  {
   "cell_type": "code",
   "execution_count": 36,
   "metadata": {
    "tags": []
   },
   "outputs": [
    {
     "output_type": "stream",
     "name": "stdout",
     "text": "1) This is1) This is\n"
    }
   ],
   "source": [
    "with open('test.txt', 'r') as f:\n",
    "\n",
    "    size_to_read = 10\n",
    "\n",
    "    f_contents = f.read(size_to_read)\n",
    "    print(f_contents, end='')\n",
    "\n",
    "    f.seek(0)\n",
    "\n",
    "    f_contents = f.read(size_to_read)\n",
    "    print(f_contents)"
   ]
  },
  {
   "cell_type": "code",
   "execution_count": 37,
   "metadata": {},
   "outputs": [],
   "source": [
    "with open('test2.txt', 'w') as f:\n",
    "    f.write('Test')"
   ]
  },
  {
   "cell_type": "code",
   "execution_count": 38,
   "metadata": {},
   "outputs": [],
   "source": [
    "with open('test.txt', 'r') as rf:\n",
    "    with open('test_copy.txt', 'w') as wf:\n",
    "        for line in rf:\n",
    "            wf.write(line)"
   ]
  },
  {
   "cell_type": "code",
   "execution_count": 39,
   "metadata": {},
   "outputs": [],
   "source": [
    "with open('Foodie.jpeg', 'rb') as rf:\n",
    "    with open('Foodie_copy.jpeg', 'wb') as wf:\n",
    "        for line in rf:\n",
    "            wf.write(line)"
   ]
  },
  {
   "cell_type": "code",
   "execution_count": 40,
   "metadata": {},
   "outputs": [],
   "source": [
    "with open('Foodie.jpeg', 'rb') as rf:\n",
    "    with open('Foodie_copy.jpeg', 'wb') as wf:\n",
    "        chunk_size = 4096\n",
    "        rf_chunk = rf.read(chunk_size)\n",
    "        while len(rf_chunk) > 0:\n",
    "            wf.write(rf_chunk)\n",
    "            rf_chunk = rf.read(chunk_size)"
   ]
  },
  {
   "cell_type": "code",
   "execution_count": null,
   "metadata": {},
   "outputs": [],
   "source": []
  }
 ]
}